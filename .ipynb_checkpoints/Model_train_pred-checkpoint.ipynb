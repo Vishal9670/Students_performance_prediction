{
 "cells": [
  {
   "cell_type": "code",
   "execution_count": null,
   "id": "12b2ab1d-1da1-45d1-a2d2-46ae118e13b5",
   "metadata": {},
   "outputs": [],
   "source": [
    "from sklearn.metrics import mean_squared_error ,r2_score, mean_absolute_error\n",
    "from sklearn.model_selection import train_test_split\n",
    "from sklearn.tree import DecisionTreeClassifier\n",
    "from sklearn.neighbors import KNeighborsClassifier\n",
    "from sklearn.ensemble import RandomForestClassifier,AdaBoostClassifier\n",
    "from sklearn.svm import SVR\n",
    "from sklearn.linear_model import LinearRegression,LogisticRegression\n",
    "from sklearn.compose import ColumnTransformer    \n",
    "from sklearn.preprocessing import OneHotEncoder ,StandardScaler\n"
   ]
  },
  {
   "cell_type": "code",
   "execution_count": null,
   "id": "f1d6277a-7a55-43c0-8f89-39e73c2e9bb4",
   "metadata": {},
   "outputs": [],
   "source": [
    "df= pd.read_csv(\"/content/stud.csv\")\n",
    "#by using the concepts of columnTransform\n",
    "\n",
    "X= df.drop(columns=['math_score'],axis=1)\n",
    "Y=df['math_score']\n",
    "num_features= X.select_dtypes(exclude=\"object\").columns\n",
    "cat_features=X.select_dtypes(include=\"object\").columns\n",
    "numeric_transformer = StandardScaler()\n",
    "oh_transformer = OneHotEncoder()\n",
    "\n",
    "preprocessor = ColumnTransformer(\n",
    "    [\n",
    "        (\"OneHotEncoder\", oh_transformer, cat_features),\n",
    "         (\"StandardScaler\", numeric_transformer, num_features),        \n",
    "    ]\n",
    ")"
   ]
  },
  {
   "cell_type": "code",
   "execution_count": null,
   "id": "f8884c48-47a2-4381-9e29-0c128e128e73",
   "metadata": {},
   "outputs": [],
   "source": [
    "X = preprocessor.fit_transform(X)\n",
    "#linear Regression\n",
    "model=LinearRegression()\n",
    "model.fit(x_train,y_train)\n",
    "y_pred=model.predict(x_test)\n",
    "error=mean_squared_error(y_test,y_pred)\n",
    "error1=mean_absolute_error(y_test,y_pred)\n",
    "print(\"Mean Square Error is \", error)\n",
    "print(\"Mean Absolute Error is\", error1)\n",
    "\n",
    "score = r2_score(y_test, y_pred)*100\n",
    "print(score)"
   ]
  },
  {
   "cell_type": "code",
   "execution_count": null,
   "id": "4e41dc2a-76e3-482c-b270-a24ecdea97f8",
   "metadata": {},
   "outputs": [],
   "source": [
    "plt.scatter(y_test,y_pred);\n",
    "plt.xlabel('Actual');\n",
    "plt.ylabel('Predicted');"
   ]
  },
  {
   "cell_type": "code",
   "execution_count": null,
   "id": "eea81fcf-223b-40e3-84e8-b1424c2291af",
   "metadata": {},
   "outputs": [],
   "source": [
    "sns.regplot(x=y_test,y=y_pred,ci=None,color ='red');"
   ]
  },
  {
   "cell_type": "code",
   "execution_count": null,
   "id": "25aced5c-5bf9-4df9-92fd-9654047df82f",
   "metadata": {},
   "outputs": [],
   "source": [
    "#Logistic Regression \n",
    "model=LogisticRegression()\n",
    "model.fit(x_train,y_train)\n",
    "y_pred=model.predict(x_test)\n",
    "error=mean_squared_error(y_test,y_pred)\n",
    "error1=mean_absolute_error(y_test,y_pred)\n",
    "print(\"For Loogistic Regression---------\")\n",
    "print(\"Mean Square Error is \", error)\n",
    "print(\"Mean Absolute Error is\", error1)\n",
    "\n",
    "cm=confusion_matrix(y_test,y_pred)"
   ]
  },
  {
   "cell_type": "code",
   "execution_count": null,
   "id": "79023826-2a99-4610-b592-2fff73dd4f8e",
   "metadata": {},
   "outputs": [],
   "source": [
    "#Logistic Regression \n",
    "model=LogisticRegression()\n",
    "model.fit(x_train,y_train)\n",
    "y_pred=model.predict(x_test)\n",
    "error=mean_squared_error(y_test,y_pred)\n",
    "error1=mean_absolute_error(y_test,y_pred)\n",
    "print(\"For Loogistic Regression---------\")\n",
    "print(\"Mean Square Error is \", error)\n",
    "print(\"Mean Absolute Error is\", error1)\n",
    "\n",
    "cm=confusion_matrix(y_test,y_pred)"
   ]
  },
  {
   "cell_type": "code",
   "execution_count": null,
   "id": "849b246c-17b0-49ef-bf78-99002bdb3416",
   "metadata": {},
   "outputs": [],
   "source": [
    "print(\"Confusion Matrix:\\n\", confusion_matrix(y_test, y_pred))\n",
    "print(f\"Accuracy: {accuracy:.4f}\")\n",
    "print(f\"Precision: {precision:.4f}\")\n",
    "print(f\"Recall: {recall:.4f}\")\n",
    "print(f\"F1 Score: {f1:.4f}\")"
   ]
  }
 ],
 "metadata": {
  "kernelspec": {
   "display_name": "Python 3 (ipykernel)",
   "language": "python",
   "name": "python3"
  },
  "language_info": {
   "codemirror_mode": {
    "name": "ipython",
    "version": 3
   },
   "file_extension": ".py",
   "mimetype": "text/x-python",
   "name": "python",
   "nbconvert_exporter": "python",
   "pygments_lexer": "ipython3",
   "version": "3.12.3"
  }
 },
 "nbformat": 4,
 "nbformat_minor": 5
}
